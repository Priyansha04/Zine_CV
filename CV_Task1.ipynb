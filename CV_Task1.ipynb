{
 "cells": [
  {
   "cell_type": "code",
   "execution_count": 1,
   "id": "a20ea41a",
   "metadata": {},
   "outputs": [],
   "source": [
    "import os\n",
    "import cv2\n",
    "import numpy as np\n",
    "import matplotlib.pyplot as plt\n",
    "\n",
    "from zipfile import ZipFile\n",
    "from urllib.request import urlretrieve\n",
    "\n",
    "from IPython.display import Image\n",
    "\n",
    "%matplotlib inline"
   ]
  },
  {
   "cell_type": "code",
   "execution_count": 2,
   "id": "72b6dead",
   "metadata": {},
   "outputs": [
    {
     "data": {
      "image/png": "[encoded data removed]",
      "text/plain": [
       "<IPython.core.display.Image object>"
      ]
     },
     "execution_count": 2,
     "metadata": {},
     "output_type": "execute_result"
    }
   ],
   "source": [
    "# Display image.\n",
    "Image(filename=\"Task_1.png\")"
   ]
  },
  {
   "cell_type": "code",
   "execution_count": 12,
   "id": "0acd627d",
   "metadata": {},
   "outputs": [
    {
     "name": "stdout",
     "output_type": "stream",
     "text": [
      "[[[245 245 245]\n",
      "  [245 245 245]\n",
      "  [245 245 245]\n",
      "  ...\n",
      "  [245 245 245]\n",
      "  [245 245 245]\n",
      "  [245 245 245]]\n",
      "\n",
      " [[245 245 245]\n",
      "  [245 245 245]\n",
      "  [245 245 245]\n",
      "  ...\n",
      "  [245 245 245]\n",
      "  [245 245 245]\n",
      "  [245 245 245]]\n",
      "\n",
      " [[245 245 245]\n",
      "  [245 245 245]\n",
      "  [245 245 245]\n",
      "  ...\n",
      "  [245 245 245]\n",
      "  [245 245 245]\n",
      "  [245 245 245]]\n",
      "\n",
      " ...\n",
      "\n",
      " [[245 245 245]\n",
      "  [245 245 245]\n",
      "  [245 245 245]\n",
      "  ...\n",
      "  [245 245 245]\n",
      "  [245 245 245]\n",
      "  [245 245 245]]\n",
      "\n",
      " [[245 245 245]\n",
      "  [245 245 245]\n",
      "  [245 245 245]\n",
      "  ...\n",
      "  [245 245 245]\n",
      "  [245 245 245]\n",
      "  [245 245 245]]\n",
      "\n",
      " [[245 245 245]\n",
      "  [245 245 245]\n",
      "  [245 245 245]\n",
      "  ...\n",
      "  [245 245 245]\n",
      "  [245 245 245]\n",
      "  [245 245 245]]]\n"
     ]
    }
   ],
   "source": [
    "img = cv2.imread( \"Task_1.png\", 1 )\n",
    "print(img)"
   ]
  },
  {
   "cell_type": "code",
   "execution_count": 13,
   "id": "f28616ef",
   "metadata": {},
   "outputs": [
    {
     "name": "stdout",
     "output_type": "stream",
     "text": [
      "Image size (H, W) is: (454, 526, 3)\n",
      "Data type of image is: uint8\n"
     ]
    }
   ],
   "source": [
    "# print the size  of image\n",
    "print(\"Image size (H, W) is:\", img.shape)\n",
    "\n",
    "# print data-type of image\n",
    "print(\"Data type of image is:\", img.dtype)"
   ]
  },
  {
   "cell_type": "code",
   "execution_count": 29,
   "id": "cbcc7092",
   "metadata": {},
   "outputs": [
    {
     "name": "stdout",
     "output_type": "stream",
     "text": [
      "(30, 30, 3)\n",
      "[[[  0   0   0]\n",
      "  [255 255 255]\n",
      "  [255 255 255]\n",
      "  ...\n",
      "  [255 255 255]\n",
      "  [  0   0   0]\n",
      "  [  0   0   0]]\n",
      "\n",
      " [[  0   0   0]\n",
      "  [255 255 255]\n",
      "  [255 255 255]\n",
      "  ...\n",
      "  [255 255 255]\n",
      "  [  0   0   0]\n",
      "  [  0   0   0]]\n",
      "\n",
      " [[  0   0   0]\n",
      "  [255 255 255]\n",
      "  [255 255 255]\n",
      "  ...\n",
      "  [255 255 255]\n",
      "  [  0   0   0]\n",
      "  [  0   0   0]]\n",
      "\n",
      " ...\n",
      "\n",
      " [[  0   0   0]\n",
      "  [255 255 255]\n",
      "  [255 255 255]\n",
      "  ...\n",
      "  [255 255 255]\n",
      "  [  0   0   0]\n",
      "  [  0   0   0]]\n",
      "\n",
      " [[  0   0   0]\n",
      "  [255 255 255]\n",
      "  [255 255 255]\n",
      "  ...\n",
      "  [255 255 255]\n",
      "  [  0   0   0]\n",
      "  [  0   0   0]]\n",
      "\n",
      " [[  0   0   0]\n",
      "  [255 255 255]\n",
      "  [255 255 255]\n",
      "  ...\n",
      "  [255 255 255]\n",
      "  [  0   0   0]\n",
      "  [  0   0   0]]]\n"
     ]
    }
   ],
   "source": [
    "box = cv2.imread(\"blue_box.png\", 1)\n",
    "print(box.shape)\n",
    "print(box)"
   ]
  },
  {
   "cell_type": "code",
   "execution_count": 2,
   "id": "630db432",
   "metadata": {},
   "outputs": [],
   "source": [
    "import cv2\n",
    "import numpy as np\n",
    "\n",
    "def highlight_obstacles(img_path):\n",
    "    image = cv2.imread(img_path) #loads the image\n",
    "    \n",
    "    hsv_image = cv2.cvtColor(image, cv2.COLOR_BGR2HSV)  #Convert the image to HSV color space\n",
    "\n",
    "    # Define a range for blue color in HSV\n",
    "    lower_blue = np.array([100, 50, 50])\n",
    "    upper_blue = np.array([130, 255, 255])\n",
    "\n",
    "    blue = cv2.inRange(hsv_image, lower_blue, upper_blue) #pixel with specified hsv become black, rest white\n",
    "\n",
    "    contours, _ = cv2.findContours(blue, cv2.RETR_EXTERNAL, cv2.CHAIN_APPROX_SIMPLE) #finds boundaries og objects in image\n",
    "    #cv2.CHAIN_APPROX_SIMPLE: compreses the contour  to save least number of points data\n",
    "\n",
    "    # Draw bounding boxes around blue objects and change color to red\n",
    "    for contour in contours:\n",
    "        x, y, w, h = cv2.boundingRect(contour)\n",
    "        cv2.rectangle(image, (x, y), (x + w, y + h), (0, 0, 255), 2)\n",
    "        \n",
    "\n",
    "    # Displaying the result\n",
    "    cv2.imshow('Obstacle Detection', image)\n",
    "    cv2.waitKey(0)\n",
    "    cv2.destroyAllWindows()\n",
    "    \n",
    "if __name__ == \"__main__\":\n",
    "    image_path = \"Task_1.png\"\n",
    "    highlight_obstacles(image_path)\n"
   ]
  },
  {
   "cell_type": "code",
   "execution_count": null,
   "id": "b6f5bff2",
   "metadata": {},
   "outputs": [],
   "source": []
  }
 ],
 "metadata": {
  "kernelspec": {
   "display_name": "opencv-env",
   "language": "python",
   "name": "opencv-env"
  },
  "language_info": {
   "codemirror_mode": {
    "name": "ipython",
    "version": 3
   },
   "file_extension": ".py",
   "mimetype": "text/x-python",
   "name": "python",
   "nbconvert_exporter": "python",
   "pygments_lexer": "ipython3",
   "version": "3.12.1"
  }
 },
 "nbformat": 4,
 "nbformat_minor": 5
}
