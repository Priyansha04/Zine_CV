{
 "cells": [
  {
   "cell_type": "code",
   "execution_count": 4,
   "id": "992ee50b",
   "metadata": {},
   "outputs": [],
   "source": [
    "import cv2\n",
    "import numpy as np\n",
    "import matplotlib.pyplot as plt"
   ]
  },
  {
   "cell_type": "code",
   "execution_count": 6,
   "id": "a8852d43",
   "metadata": {},
   "outputs": [],
   "source": [
    "image = cv2.imread(\"Task_1.png\")\n",
    "cv2.imshow(\"Original Image\",image)\n",
    "cv2.waitKey(0)\n",
    "cv2.destroyAllWindows()"
   ]
  },
  {
   "cell_type": "code",
   "execution_count": 29,
   "id": "630db432",
   "metadata": {},
   "outputs": [],
   "source": [
    "\n",
    "\n",
    "def highlight_obstacles(img_path):\n",
    "    image = cv2.imread(img_path) #loads the image\n",
    "    \n",
    "    hsv_image = cv2.cvtColor(image, cv2.COLOR_BGR2HSV)  #Convert the image to HSV color space\n",
    "\n",
    "    # Define a range for blue color in HSV\n",
    "    lower_blue = np.array([100, 50, 50])\n",
    "    upper_blue = np.array([130, 255, 255])\n",
    "\n",
    "    lower_red = np.array([136, 87, 111], np.uint8) \n",
    "    upper_red = np.array([180, 255, 255], np.uint8) \n",
    "    #red_mask = cv2.inRange(hsvImage, red_lower, red_upper) \n",
    "    \n",
    "    blue = cv2.inRange(hsv_image, lower_blue, upper_blue) #pixel with specified hsv become black, rest white\n",
    "\n",
    "    red = cv2.inRange(hsv_image, lower_red, upper_red)\n",
    "\n",
    "    contours, _ = cv2.findContours(blue, cv2.RETR_EXTERNAL, cv2.CHAIN_APPROX_SIMPLE) #finds boundaries og objects in image\n",
    "    #cv2.CHAIN_APPROX_SIMPLE: compreses the contour  to save least number of points data\n",
    "    flags, _ = cv2.findContours(red, cv2.RETR_EXTERNAL, cv2.CHAIN_APPROX_SIMPLE)\n",
    "\n",
    "    # Draw bounding boxes around blue objects and change color to red\n",
    "    for contour in contours:\n",
    "        x, y, w, h = cv2.boundingRect(contour)\n",
    "        cv2.rectangle(image, (x, y), (x + w, y + h), (0, 0, 255), 2)\n",
    "        \n",
    "    for flag in flags:\n",
    "        x1, y1, w1, h1 = cv2.boundingRect(flag) \n",
    "        cv2.rectangle(image, (x1, y1), (x1 + w1, y1 + h1), (130, 255, 0), 2)\n",
    "\n",
    "    # Displaying the result\n",
    "    cv2.imshow('Obstacle Detection', image)\n",
    "    cv2.waitKey(0)\n",
    "    cv2.destroyAllWindows()\n",
    "    \n",
    "if __name__ == \"__main__\":\n",
    "    image_path = \"Task_1.png\"\n",
    "    highlight_obstacles(image_path)\n"
   ]
  },
  {
   "cell_type": "markdown",
   "id": "d455485a",
   "metadata": {},
   "source": [
    "ArUco Detection [NOT WORKING :(  ]"
   ]
  },
  {
   "cell_type": "code",
   "execution_count": 23,
   "id": "b6f5bff2",
   "metadata": {},
   "outputs": [],
   "source": [
    "import cv2\n",
    "\n",
    "def detect_aruco_markers(image_path):\n",
    "    # Read the image\n",
    "    image = cv2.imread(image_path)\n",
    "\n",
    "    # Convert the image to grayscale\n",
    "    gray = cv2.cvtColor(image, cv2.COLOR_BGR2GRAY)\n",
    "\n",
    "    # Load ArUco dictionary and create detector parameters\n",
    "    aruco_dict = cv2.aruco.getPredefinedDictionary(cv2.aruco.DICT_6X6_250)\n",
    "    parameters = cv2.aruco.DetectorParameters()\n",
    "\n",
    "    # Detect ArUco markers\n",
    "    corners, ids, rejectedImgPoints = cv2.aruco.detectMarkers(gray, aruco_dict, parameters=parameters)\n",
    "\n",
    "    # Draw detected markers\n",
    "    if ids is not None:\n",
    "        cv2.aruco.drawDetectedMarkers(image, corners, ids)\n",
    "\n",
    "        # Draw axes for each marker\n",
    "        for i in range(len(ids)):\n",
    "            cv2.aruco.drawAxis(image, aruco_dict, corners[i], ids[i])\n",
    "\n",
    "    \n",
    "    # Display the result\n",
    "    cv2.imshow(\"ArUco Marker Detection\", image)\n",
    "    cv2.waitKey(0)\n",
    "    cv2.destroyAllWindows()\n",
    "\n",
    "if __name__ == \"__main__\":\n",
    "    # Replace 'path/to/your/image.jpg' with the path to your image file\n",
    "    image_path = 'Task_1_ArUco.png'\n",
    "    \n",
    "    detect_aruco_markers(image_path)\n"
   ]
  }
 ],
 "metadata": {
  "kernelspec": {
   "display_name": "Python 3",
   "language": "python",
   "name": "python3"
  },
  "language_info": {
   "codemirror_mode": {
    "name": "ipython",
    "version": 3
   },
   "file_extension": ".py",
   "mimetype": "text/x-python",
   "name": "python",
   "nbconvert_exporter": "python",
   "pygments_lexer": "ipython3",
   "version": "3.10.13"
  }
 },
 "nbformat": 4,
 "nbformat_minor": 5
}
